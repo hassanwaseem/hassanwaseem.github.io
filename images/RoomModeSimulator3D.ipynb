{
 "cells": [
  {
   "cell_type": "markdown",
   "metadata": {},
   "source": [
    "### Arbitrary Shaped Room Mode Simulator (3D)"
   ]
  },
  {
   "cell_type": "markdown",
   "metadata": {},
   "source": [
    "#### A Very Quick Review of the Theory\n",
    "The room modes can be found by solving the [_Helmholtz equation_](https://en.wikipedia.org/wiki/Helmholtz_equation), where $\\hat{p}$ is the pressure amplitude, $\\nabla^2$ is the [_Laplacian_](https://en.wikipedia.org/wiki/Laplace_operator), $\\displaystyle k = \\frac{2 \\pi f}{c}$ is the [acoustic wavenumber](http://www.tonmeister.ca/main/textbook/intro_to_sound_recordingch4.html#x19-1780003.1.15), $f$ is frequency in Hz, and $c$ is speed of sound in m/s:\n",
    "<br><br>\n",
    "\\\\[ \\nabla^2 \\hat{p} + k^2 \\hat{p} = 0 \\\\] <br>\n",
    "In the Cartesian coordinate system: <br><br>\n",
    "\\\\[ \\nabla^2 \\equiv \\frac{\\partial^2}{\\partial x^2} + \\frac{\\partial^2}{\\partial y^2} + \\frac{\\partial^2}{\\partial z^2} \\\\]"
   ]
  },
  {
   "cell_type": "markdown",
   "metadata": {},
   "source": [
    "Rearrange the equation into the more recognizable form of the classic eigenvalue problem:<br><br>\n",
    "\\\\[ (-\\nabla^2) \\hat{p} = k^2 \\hat{p} \\\\] <br>\n",
    "After discretization, ($-\\nabla^2$) becomes the negative of the Laplacian matrix. $k^2$ is the eigenvalue and $\\hat{p}$ is the corresponding eigenvector (discretized eigenfunction) of the Laplacian matrix."
   ]
  },
  {
   "cell_type": "markdown",
   "metadata": {},
   "source": [
    "This simulator assumes perfect reflection of the room walls, which is reasonable since we mostly concern with the bass frequencies. This simply means that the boundary conditions are naturally applied by the FEM formulations and we don't need to specify any boundary conditions."
   ]
  },
  {
   "cell_type": "markdown",
   "metadata": {},
   "source": [
    "----\n",
    "#### Start\n",
    "Clear all variable definitions.\n",
    "\n",
    "Obtain the speed of sound at sea level using standard atmospheric data."
   ]
  },
  {
   "cell_type": "code",
   "execution_count": null,
   "metadata": {},
   "outputs": [],
   "source": [
    "(* Clear all variable definitions *)\n",
    "ClearAll[\"Global`*\"];\n",
    "\n",
    "(* Speed of sound at sea level standard atmosphere, in SI unit *)\n",
    "c = QuantityMagnitude[StandardAtmosphereData[Quantity[0, \"Meter\"], \"SoundSpeed\"]]"
   ]
  },
  {
   "cell_type": "markdown",
   "metadata": {},
   "source": [
    "#### Construct our example  room using basic 3D solid primatives\n",
    "The interior volume of our example model &mdash; a house with a loft &mdash; is build using the 3D solid primatives cuboid, prism and hexahedron.\n",
    "\n",
    "To define a cuboid: `Cuboid[p1, p2]` where `p1` is `{x1, y1, z1}` and `p2` is `{x2, y2, z2}`.\n",
    "\n",
    "To define a prism: `Prism[p1, p2, p3, p4, p5, p6]` where `p1` is `{x1, y1, z1}`, etc.\n",
    "\n",
    "To define a hexahedron: `Hexahedron[p1, p2, p3, p4, p5, p6, p7, p8]` where `p1` is `{x1, y1, z1}`, etc."
   ]
  },
  {
   "cell_type": "code",
   "execution_count": null,
   "metadata": {},
   "outputs": [],
   "source": [
    "Import[\"3D_primatives.png\"]\n",
    "Import[\"Loft.png\"]"
   ]
  },
  {
   "cell_type": "code",
   "execution_count": null,
   "metadata": {},
   "outputs": [],
   "source": [
    "cb1 = Cuboid[{0, 0, 0}, {5, 1, 3}];\n",
    "cb2 = Cuboid[{0, 1, 0}, {4, 6, 3}];\n",
    "cb3 = Cuboid[{0, 0, 3}, {10, 6, 5}];\n",
    "ps1 = Prism[{{5, 0, 0}, {8, 0, 3}, {5, 0, 3},\n",
    "             {5, 1, 0}, {8, 1, 3}, {5, 1, 3}}];\n",
    "hx1 = Hexahedron[{{0, 2, 8}, {0, 6, 5}, {0, 0, 5}, {0, 0, 6},\n",
    "                  {10, 2, 8}, {10, 6, 5}, {10, 0, 5}, {10, 0, 6}}];"
   ]
  },
  {
   "cell_type": "markdown",
   "metadata": {},
   "source": [
    "#### Display the solids"
   ]
  },
  {
   "cell_type": "code",
   "execution_count": null,
   "metadata": {},
   "outputs": [],
   "source": [
    "Graphics3D[{Opacity[0.1], {{Red, cb1}, {Green, cb2}, {Blue, cb3}, {Cyan, ps1}, {Magenta, hx1}}},\n",
    "           ImageSize -> Medium, Axes -> True, AxesLabel -> {x, y, z}, ViewVector -> {15, -15, 15}]"
   ]
  },
  {
   "cell_type": "markdown",
   "metadata": {},
   "source": [
    "#### Merge the solids together and generate the mesh\n",
    "Display the merged solid, the FEM mesh and report the number of elements in the mesh."
   ]
  },
  {
   "cell_type": "code",
   "execution_count": null,
   "metadata": {},
   "outputs": [],
   "source": [
    "model = RegionUnion[cb1, cb2, cb3, ps1, hx1];\n",
    "\n",
    "mesh = DiscretizeRegion[model, MeshQualityGoal -> \"Maximal\", AccuracyGoal -> 4,\n",
    "                        MaxCellMeasure -> {\"Volume\" -> 0.01}, PerformanceGoal -> \"Quality\"];\n",
    "\n",
    "Grid[{{Graphics3D[{Opacity[0.1], model}, ImageSize -> Medium, Axes -> True,\n",
    "                  AxesLabel -> {x, y, z}, ViewVector -> {15, -15, 15}],\n",
    "       Graphics3D[{Opacity[0.25], mesh}, ImageSize -> Medium, ViewVector -> {15, -15, 15}]}}]\n",
    "MeshCellCount[mesh, 3]"
   ]
  },
  {
   "cell_type": "markdown",
   "metadata": {},
   "source": [
    "#### Setup and solve the eigenvalue problem\n",
    "We'll solve for the first `nmodes` modes, and report the compute time (in seconds)."
   ]
  },
  {
   "cell_type": "code",
   "execution_count": null,
   "metadata": {},
   "outputs": [],
   "source": [
    "nmodes = 20;\n",
    "AbsoluteTiming[{lambda, eigfuns} = NDEigensystem[{-Laplacian[{u[x, y, z]}, {x, y, z}]}, u[x, y, z],\n",
    "                                                 Element[{x, y, z}, mesh], nmodes];\n",
    "              ]"
   ]
  },
  {
   "cell_type": "markdown",
   "metadata": {},
   "source": [
    "Convert eigenvalues into mode frequencies."
   ]
  },
  {
   "cell_type": "code",
   "execution_count": null,
   "metadata": {},
   "outputs": [],
   "source": [
    "Grid[Transpose[{Range[nmodes], freqs = c * Sqrt[lambda] / (2 * Pi)}], Alignment -> Right]"
   ]
  },
  {
   "cell_type": "markdown",
   "metadata": {},
   "source": [
    "#### Visualize the room modes\n",
    "Plot one of the mode shapes (mode number 12) using 3D density plot, and report the compute time.\n",
    "\n",
    "This actually takes significantly more computation time than solving the eigenvalue problem &#128556;"
   ]
  },
  {
   "cell_type": "code",
   "execution_count": null,
   "metadata": {},
   "outputs": [],
   "source": [
    "mode = 12;"
   ]
  },
  {
   "cell_type": "code",
   "execution_count": null,
   "metadata": {},
   "outputs": [],
   "source": [
    "AbsoluteTiming[denplot = DensityPlot3D[eigfuns[[mode]], Element[{x, y, z}, model],\n",
    "                                       ColorFunction -> ColorData[\"RedGreenSplit\"],\n",
    "                                       ViewVector -> {15, -15, 15}];\n",
    "              ]"
   ]
  },
  {
   "cell_type": "markdown",
   "metadata": {},
   "source": [
    "If we are using Mathematica, the 3D density plot generated is a 3D object and we can spin it around.<br>\n",
    "However, Wolfram on Jupyter notebook only supports static pictures, but we can generate multiple views by specifying a series of view point locations."
   ]
  },
  {
   "cell_type": "code",
   "execution_count": null,
   "metadata": {},
   "outputs": [],
   "source": [
    "r = 30;\n",
    "theta = Pi/3;\n",
    "\n",
    "Table[Show[denplot, AxesLabel -> {x, y, z},  ViewVector -> FromSphericalCoordinates[{r, theta, phi}]],\n",
    "      {phi, -3*Pi/4, Pi, Pi/4}]"
   ]
  },
  {
   "cell_type": "markdown",
   "metadata": {},
   "source": [
    "Other methods to present the results &mdash; slice density plots."
   ]
  },
  {
   "cell_type": "code",
   "execution_count": null,
   "metadata": {
    "scrolled": false
   },
   "outputs": [],
   "source": [
    "slice1 = SliceDensityPlot3D[eigfuns[[mode]], {\"XStackedPlanes\"}, Element[{x, y, z}, model],\n",
    "                            ColorFunction -> ColorData[\"RedGreenSplit\"],\n",
    "                            ViewVector -> {15, -15, 15}];\n",
    "slice2 = SliceDensityPlot3D[eigfuns[[mode]], {\"YStackedPlanes\"}, Element[{x, y, z}, model],\n",
    "                            ColorFunction -> ColorData[\"RedGreenSplit\"],\n",
    "                            ViewVector -> {15, -15, 15}];\n",
    "slice3 = SliceDensityPlot3D[eigfuns[[mode]], {\"ZStackedPlanes\"}, Element[{x, y, z}, model],\n",
    "                            ColorFunction -> ColorData[\"RedGreenSplit\"],\n",
    "                            ViewVector -> {15, -15, 15}];"
   ]
  },
  {
   "cell_type": "code",
   "execution_count": null,
   "metadata": {},
   "outputs": [],
   "source": [
    "Show[slice1, slice2, slice3]"
   ]
  },
  {
   "cell_type": "markdown",
   "metadata": {},
   "source": [
    "A series of slices. Unfortunately, Wolfram doesn't offer slice plots with transparency."
   ]
  },
  {
   "cell_type": "code",
   "execution_count": null,
   "metadata": {},
   "outputs": [],
   "source": [
    "Table[SliceDensityPlot3D[eigfuns[[mode]],\n",
    "                         {{\"XStackedPlanes\", {0}}, {\"YStackedPlanes\", {ycoord}}, {\"ZStackedPlanes\", {0}}},\n",
    "                         Element[{x, y, z}, model], ColorFunction -> ColorData[\"RedGreenSplit\"],\n",
    "                         ViewVector -> {15, -15, 15}],\n",
    "      {ycoord, 0, 6}]"
   ]
  }
 ],
 "metadata": {
  "kernelspec": {
   "display_name": "Wolfram Language 12.2",
   "language": "Wolfram Language",
   "name": "wolframlanguage12.2"
  },
  "language_info": {
   "codemirror_mode": "mathematica",
   "file_extension": ".m",
   "mimetype": "application/vnd.wolfram.m",
   "name": "Wolfram Language",
   "pygments_lexer": "mathematica",
   "version": "12.0"
  }
 },
 "nbformat": 4,
 "nbformat_minor": 4
}
